{
 "cells": [
  {
   "cell_type": "markdown",
   "metadata": {},
   "source": [
    "# Intrduction to NumPy\n",
    "\n",
    "\n",
    "#### 1. Import NumPy under the name np."
   ]
  },
  {
   "cell_type": "code",
   "execution_count": 3,
   "metadata": {},
   "outputs": [],
   "source": [
    "import numpy as np"
   ]
  },
  {
   "cell_type": "markdown",
   "metadata": {},
   "source": [
    "#### 2. Print your NumPy version."
   ]
  },
  {
   "cell_type": "code",
   "execution_count": 4,
   "metadata": {},
   "outputs": [
    {
     "name": "stdout",
     "output_type": "stream",
     "text": [
      "1.19.0\n"
     ]
    }
   ],
   "source": [
    "print(np.__version__)"
   ]
  },
  {
   "cell_type": "markdown",
   "metadata": {},
   "source": [
    "#### 3. Generate a 2x3x5 3-dimensional array with random values. Assign the array to variable *a*.\n",
    "**Challenge**: there are at least three easy ways that use numpy to generate random arrays. How many ways can you find?"
   ]
  },
  {
   "cell_type": "code",
   "execution_count": 6,
   "metadata": {},
   "outputs": [
    {
     "name": "stdout",
     "output_type": "stream",
     "text": [
      "[[[0.92987246 0.81138892 0.02313304 0.61150742 0.56121014]\n",
      "  [0.51799016 0.68046545 0.72278117 0.9602486  0.81987855]\n",
      "  [0.83439216 0.64942063 0.79642286 0.91742754 0.48879672]]\n",
      "\n",
      " [[0.57508468 0.01988743 0.34132166 0.36529221 0.63275756]\n",
      "  [0.27768269 0.74829557 0.51670177 0.88897442 0.18894065]\n",
      "  [0.25194321 0.08564921 0.72517449 0.55410574 0.80015693]]]\n"
     ]
    }
   ],
   "source": [
    "a = np.random.random((2, 3, 5))\n",
    "print(a)"
   ]
  },
  {
   "cell_type": "code",
   "execution_count": 49,
   "metadata": {},
   "outputs": [
    {
     "name": "stdout",
     "output_type": "stream",
     "text": [
      "[[[0.23191938 0.4023825  0.0935377  0.08230874 0.8880427 ]\n",
      "  [0.93570328 0.36799799 0.25665552 0.56620806 0.37744726]\n",
      "  [0.81466194 0.16196545 0.33458577 0.03710275 0.29040559]]\n",
      "\n",
      " [[0.95392644 0.9557284  0.93707481 0.07467008 0.74323504]\n",
      "  [0.510121   0.91589869 0.48521615 0.96520696 0.83616048]\n",
      "  [0.67709481 0.89732744 0.26959858 0.70840831 0.1036926 ]]]\n"
     ]
    }
   ],
   "source": [
    "import random\n",
    "lst1 = []\n",
    "lst2 = []\n",
    "lst3 = []\n",
    "lst4 = []\n",
    "lst5 = []\n",
    "lst6 = []\n",
    "lst_of_lst = []\n",
    "\n",
    "for i in range(0,5):\n",
    "    n = random.random()\n",
    "    lst1.append(n)\n",
    "    \n",
    "for j in range(0,5):\n",
    "    m = random.random()\n",
    "    lst2.append(m)\n",
    "    \n",
    "for k in range(0,5):\n",
    "    l = random.random()\n",
    "    lst3.append(l)\n",
    "\n",
    "for h in range(0,5):\n",
    "    o = random.random()\n",
    "    lst4.append(o)    \n",
    "    \n",
    "for g in range(0,5):\n",
    "    p = random.random()\n",
    "    lst5.append(p)\n",
    "    \n",
    "for f in range(0,5):\n",
    "    q = random.random()\n",
    "    lst6.append(q)    \n",
    "    \n",
    "    \n",
    "lst_of_lst.append(lst1)\n",
    "lst_of_lst.append(lst2)\n",
    "lst_of_lst.append(lst3)\n",
    "lst_of_lst.append(lst4)\n",
    "lst_of_lst.append(lst5)\n",
    "lst_of_lst.append(lst6)\n",
    "\n",
    "a2 = np.array(lst_of_lst)\n",
    "a2 = a2.reshape(2, 3, 5)\n",
    "print(a2)"
   ]
  },
  {
   "cell_type": "code",
   "execution_count": 54,
   "metadata": {},
   "outputs": [
    {
     "name": "stdout",
     "output_type": "stream",
     "text": [
      "[[[0.61944937 0.81491219 0.13211847 0.66107375 0.6936264 ]\n",
      "  [0.74332245 0.76731463 0.48199488 0.31274775 0.20329849]\n",
      "  [0.45665318 0.96654017 0.23229488 0.0961829  0.03574489]]\n",
      "\n",
      " [[0.99202168 0.55502866 0.1469958  0.22808966 0.81254471]\n",
      "  [0.71440743 0.40707631 0.95861766 0.94258907 0.9116293 ]\n",
      "  [0.1057899  0.88071374 0.28273369 0.48334324 0.87755168]]]\n"
     ]
    }
   ],
   "source": [
    "from numpy import random\n",
    "a3 = random.rand(30)\n",
    "a3 = a3.reshape(2, 3, 5)\n",
    "print(a3)"
   ]
  },
  {
   "cell_type": "markdown",
   "metadata": {},
   "source": [
    "#### 4. Print *a*.\n"
   ]
  },
  {
   "cell_type": "code",
   "execution_count": 55,
   "metadata": {},
   "outputs": [
    {
     "name": "stdout",
     "output_type": "stream",
     "text": [
      "[[[0.92987246 0.81138892 0.02313304 0.61150742 0.56121014]\n",
      "  [0.51799016 0.68046545 0.72278117 0.9602486  0.81987855]\n",
      "  [0.83439216 0.64942063 0.79642286 0.91742754 0.48879672]]\n",
      "\n",
      " [[0.57508468 0.01988743 0.34132166 0.36529221 0.63275756]\n",
      "  [0.27768269 0.74829557 0.51670177 0.88897442 0.18894065]\n",
      "  [0.25194321 0.08564921 0.72517449 0.55410574 0.80015693]]]\n"
     ]
    }
   ],
   "source": [
    "print(a)"
   ]
  },
  {
   "cell_type": "markdown",
   "metadata": {},
   "source": [
    "#### 5. Create a 5x2x3 3-dimensional array with all values equaling 1. Assign the array to variable *b*."
   ]
  },
  {
   "cell_type": "code",
   "execution_count": 115,
   "metadata": {
    "scrolled": true
   },
   "outputs": [],
   "source": [
    "b = [1]*30\n",
    "b = np.array(b)\n",
    "b = b.reshape(5, 3, 2)"
   ]
  },
  {
   "cell_type": "markdown",
   "metadata": {},
   "source": [
    "#### 6. Print *b*.\n"
   ]
  },
  {
   "cell_type": "code",
   "execution_count": 116,
   "metadata": {},
   "outputs": [
    {
     "name": "stdout",
     "output_type": "stream",
     "text": [
      "[[[1 1]\n",
      "  [1 1]\n",
      "  [1 1]]\n",
      "\n",
      " [[1 1]\n",
      "  [1 1]\n",
      "  [1 1]]\n",
      "\n",
      " [[1 1]\n",
      "  [1 1]\n",
      "  [1 1]]\n",
      "\n",
      " [[1 1]\n",
      "  [1 1]\n",
      "  [1 1]]\n",
      "\n",
      " [[1 1]\n",
      "  [1 1]\n",
      "  [1 1]]]\n"
     ]
    }
   ],
   "source": [
    "print(b)"
   ]
  },
  {
   "cell_type": "markdown",
   "metadata": {},
   "source": [
    "#### 7. Do *a* and *b* have the same size? How do you prove that in Python code?"
   ]
  },
  {
   "cell_type": "code",
   "execution_count": 117,
   "metadata": {},
   "outputs": [
    {
     "name": "stdout",
     "output_type": "stream",
     "text": [
      "30\n",
      "30\n"
     ]
    }
   ],
   "source": [
    "size_a = a.size\n",
    "size_b = b.size\n",
    "print(size_a)\n",
    "print(size_b) #yes they have the same size 2x3x5=30"
   ]
  },
  {
   "cell_type": "markdown",
   "metadata": {},
   "source": [
    "#### 8. Are you able to add *a* and *b*? Why or why not?\n"
   ]
  },
  {
   "cell_type": "code",
   "execution_count": 118,
   "metadata": {},
   "outputs": [
    {
     "ename": "ValueError",
     "evalue": "all the input array dimensions for the concatenation axis must match exactly, but along dimension 2, the array at index 0 has size 5 and the array at index 1 has size 2",
     "output_type": "error",
     "traceback": [
      "\u001b[1;31m---------------------------------------------------------------------------\u001b[0m",
      "\u001b[1;31mValueError\u001b[0m                                Traceback (most recent call last)",
      "\u001b[1;32m<ipython-input-118-06e0557e6528>\u001b[0m in \u001b[0;36m<module>\u001b[1;34m\u001b[0m\n\u001b[1;32m----> 1\u001b[1;33m \u001b[0madd_a_b\u001b[0m \u001b[1;33m=\u001b[0m \u001b[0mnp\u001b[0m\u001b[1;33m.\u001b[0m\u001b[0mconcatenate\u001b[0m\u001b[1;33m(\u001b[0m\u001b[1;33m(\u001b[0m\u001b[0ma\u001b[0m\u001b[1;33m,\u001b[0m \u001b[0mb\u001b[0m\u001b[1;33m)\u001b[0m\u001b[1;33m)\u001b[0m\u001b[1;33m\u001b[0m\u001b[1;33m\u001b[0m\u001b[0m\n\u001b[0m\u001b[0;32m      2\u001b[0m \u001b[0mprint\u001b[0m\u001b[1;33m(\u001b[0m\u001b[0madd_a_b\u001b[0m\u001b[1;33m)\u001b[0m\u001b[1;33m\u001b[0m\u001b[1;33m\u001b[0m\u001b[0m\n\u001b[0;32m      3\u001b[0m \u001b[1;31m#you can add them because they have the same size\u001b[0m\u001b[1;33m\u001b[0m\u001b[1;33m\u001b[0m\u001b[1;33m\u001b[0m\u001b[0m\n",
      "\u001b[1;32m<__array_function__ internals>\u001b[0m in \u001b[0;36mconcatenate\u001b[1;34m(*args, **kwargs)\u001b[0m\n",
      "\u001b[1;31mValueError\u001b[0m: all the input array dimensions for the concatenation axis must match exactly, but along dimension 2, the array at index 0 has size 5 and the array at index 1 has size 2"
     ]
    }
   ],
   "source": [
    "add_a_b = np.concatenate((a, b))\n",
    "print(add_a_b)\n",
    "#you cannot add them because they don't have the same dimensions"
   ]
  },
  {
   "cell_type": "markdown",
   "metadata": {},
   "source": [
    "#### 9. Transpose *b* so that it has the same structure of *a* (i.e. become a 2x3x5 array). Assign the transposed array to variable *c*."
   ]
  },
  {
   "cell_type": "code",
   "execution_count": 119,
   "metadata": {},
   "outputs": [
    {
     "name": "stdout",
     "output_type": "stream",
     "text": [
      "[[[1 1 1 1 1]\n",
      "  [1 1 1 1 1]\n",
      "  [1 1 1 1 1]]\n",
      "\n",
      " [[1 1 1 1 1]\n",
      "  [1 1 1 1 1]\n",
      "  [1 1 1 1 1]]]\n"
     ]
    }
   ],
   "source": [
    "c = b.reshape(2, 3, 5)\n",
    "print(c)"
   ]
  },
  {
   "cell_type": "markdown",
   "metadata": {},
   "source": [
    "#### 10. Try to add *a* and *c*. Now it should work. Assign the sum to variable *d*. But why does it work now?"
   ]
  },
  {
   "cell_type": "code",
   "execution_count": 121,
   "metadata": {},
   "outputs": [
    {
     "name": "stdout",
     "output_type": "stream",
     "text": [
      "[[[1.92987246 1.81138892 1.02313304 1.61150742 1.56121014]\n",
      "  [1.51799016 1.68046545 1.72278117 1.9602486  1.81987855]\n",
      "  [1.83439216 1.64942063 1.79642286 1.91742754 1.48879672]]\n",
      "\n",
      " [[1.57508468 1.01988743 1.34132166 1.36529221 1.63275756]\n",
      "  [1.27768269 1.74829557 1.51670177 1.88897442 1.18894065]\n",
      "  [1.25194321 1.08564921 1.72517449 1.55410574 1.80015693]]]\n"
     ]
    }
   ],
   "source": [
    "d = a + c\n",
    "print(d)"
   ]
  },
  {
   "cell_type": "markdown",
   "metadata": {},
   "source": [
    "#### 11. Print *a* and *d*. Notice the difference and relation of the two array in terms of the values? Explain."
   ]
  },
  {
   "cell_type": "code",
   "execution_count": 123,
   "metadata": {},
   "outputs": [
    {
     "name": "stdout",
     "output_type": "stream",
     "text": [
      "[[[0.92987246 0.81138892 0.02313304 0.61150742 0.56121014]\n",
      "  [0.51799016 0.68046545 0.72278117 0.9602486  0.81987855]\n",
      "  [0.83439216 0.64942063 0.79642286 0.91742754 0.48879672]]\n",
      "\n",
      " [[0.57508468 0.01988743 0.34132166 0.36529221 0.63275756]\n",
      "  [0.27768269 0.74829557 0.51670177 0.88897442 0.18894065]\n",
      "  [0.25194321 0.08564921 0.72517449 0.55410574 0.80015693]]]\n",
      "[[[1.92987246 1.81138892 1.02313304 1.61150742 1.56121014]\n",
      "  [1.51799016 1.68046545 1.72278117 1.9602486  1.81987855]\n",
      "  [1.83439216 1.64942063 1.79642286 1.91742754 1.48879672]]\n",
      "\n",
      " [[1.57508468 1.01988743 1.34132166 1.36529221 1.63275756]\n",
      "  [1.27768269 1.74829557 1.51670177 1.88897442 1.18894065]\n",
      "  [1.25194321 1.08564921 1.72517449 1.55410574 1.80015693]]]\n"
     ]
    }
   ],
   "source": [
    "print(a)\n",
    "\n",
    "print(d)\n",
    "#values in d = i + 1 for i in a"
   ]
  },
  {
   "cell_type": "markdown",
   "metadata": {},
   "source": [
    "#### 12. Multiply *a* and *c*. Assign the result to *e*."
   ]
  },
  {
   "cell_type": "code",
   "execution_count": 124,
   "metadata": {},
   "outputs": [
    {
     "name": "stdout",
     "output_type": "stream",
     "text": [
      "[[[0.92987246 0.81138892 0.02313304 0.61150742 0.56121014]\n",
      "  [0.51799016 0.68046545 0.72278117 0.9602486  0.81987855]\n",
      "  [0.83439216 0.64942063 0.79642286 0.91742754 0.48879672]]\n",
      "\n",
      " [[0.57508468 0.01988743 0.34132166 0.36529221 0.63275756]\n",
      "  [0.27768269 0.74829557 0.51670177 0.88897442 0.18894065]\n",
      "  [0.25194321 0.08564921 0.72517449 0.55410574 0.80015693]]]\n"
     ]
    }
   ],
   "source": [
    "e = a * c\n",
    "print(e)"
   ]
  },
  {
   "cell_type": "markdown",
   "metadata": {},
   "source": [
    "#### 13. Does *e* equal to *a*? Why or why not?\n"
   ]
  },
  {
   "cell_type": "code",
   "execution_count": 125,
   "metadata": {},
   "outputs": [
    {
     "name": "stdout",
     "output_type": "stream",
     "text": [
      "[[[0.92987246 0.81138892 0.02313304 0.61150742 0.56121014]\n",
      "  [0.51799016 0.68046545 0.72278117 0.9602486  0.81987855]\n",
      "  [0.83439216 0.64942063 0.79642286 0.91742754 0.48879672]]\n",
      "\n",
      " [[0.57508468 0.01988743 0.34132166 0.36529221 0.63275756]\n",
      "  [0.27768269 0.74829557 0.51670177 0.88897442 0.18894065]\n",
      "  [0.25194321 0.08564921 0.72517449 0.55410574 0.80015693]]]\n",
      "[[[0.92987246 0.81138892 0.02313304 0.61150742 0.56121014]\n",
      "  [0.51799016 0.68046545 0.72278117 0.9602486  0.81987855]\n",
      "  [0.83439216 0.64942063 0.79642286 0.91742754 0.48879672]]\n",
      "\n",
      " [[0.57508468 0.01988743 0.34132166 0.36529221 0.63275756]\n",
      "  [0.27768269 0.74829557 0.51670177 0.88897442 0.18894065]\n",
      "  [0.25194321 0.08564921 0.72517449 0.55410574 0.80015693]]]\n"
     ]
    }
   ],
   "source": [
    "print(a)\n",
    "print(e)\n",
    "#they are equal because x * 1 = x"
   ]
  },
  {
   "cell_type": "markdown",
   "metadata": {},
   "source": [
    "#### 14. Identify the max, min, and mean values in *d*. Assign those values to variables *d_max*, *d_min* and *d_mean*."
   ]
  },
  {
   "cell_type": "code",
   "execution_count": 132,
   "metadata": {},
   "outputs": [
    {
     "name": "stdout",
     "output_type": "stream",
     "text": [
      "1.9602485992146814\n",
      "1.019887428815459\n",
      "1.5765634678868143\n"
     ]
    }
   ],
   "source": [
    "d_max = np.amax(d)\n",
    "d_min = np.amin(d)\n",
    "d_mean = np.mean(d)\n",
    "print(d_max)\n",
    "print(d_min)\n",
    "print(d_mean)"
   ]
  },
  {
   "cell_type": "markdown",
   "metadata": {},
   "source": [
    "#### 15. Now we want to label the values in *d*. First create an empty array *f* with the same shape (i.e. 2x3x5) as *d* using `np.empty`.\n"
   ]
  },
  {
   "cell_type": "code",
   "execution_count": 135,
   "metadata": {},
   "outputs": [
    {
     "name": "stdout",
     "output_type": "stream",
     "text": [
      "[[[0.92987246 0.81138892 0.02313304 0.61150742 0.56121014]\n",
      "  [0.51799016 0.68046545 0.72278117 0.9602486  0.81987855]\n",
      "  [0.83439216 0.64942063 0.79642286 0.91742754 0.48879672]]\n",
      "\n",
      " [[0.57508468 0.01988743 0.34132166 0.36529221 0.63275756]\n",
      "  [0.27768269 0.74829557 0.51670177 0.88897442 0.18894065]\n",
      "  [0.25194321 0.08564921 0.72517449 0.55410574 0.80015693]]]\n"
     ]
    }
   ],
   "source": [
    "f = np.empty((2, 3, 5))\n",
    "print(f)"
   ]
  },
  {
   "cell_type": "markdown",
   "metadata": {},
   "source": [
    "#### 16. Populate the values in *f*. \n",
    "\n",
    "For each value in *d*, if it's larger than *d_min* but smaller than *d_mean*, assign 25 to the corresponding value in *f*. If a value in *d* is larger than *d_mean* but smaller than *d_max*, assign 75 to the corresponding value in *f*. If a value equals to *d_mean*, assign 50 to the corresponding value in *f*. Assign 0 to the corresponding value(s) in *f* for *d_min* in *d*. Assign 100 to the corresponding value(s) in *f* for *d_max* in *d*. In the end, f should have only the following values: 0, 25, 50, 75, and 100.\n",
    "\n",
    "**Note**: you don't have to use Numpy in this question."
   ]
  },
  {
   "cell_type": "code",
   "execution_count": 171,
   "metadata": {},
   "outputs": [
    {
     "ename": "ValueError",
     "evalue": "The truth value of an array with more than one element is ambiguous. Use a.any() or a.all()",
     "output_type": "error",
     "traceback": [
      "\u001b[1;31m---------------------------------------------------------------------------\u001b[0m",
      "\u001b[1;31mValueError\u001b[0m                                Traceback (most recent call last)",
      "\u001b[1;32m<ipython-input-171-7ecbf400a603>\u001b[0m in \u001b[0;36m<module>\u001b[1;34m\u001b[0m\n\u001b[1;32m----> 1\u001b[1;33m \u001b[0mf\u001b[0m\u001b[1;33m[\u001b[0m\u001b[0md\u001b[0m \u001b[1;33m>\u001b[0m \u001b[0md_min\u001b[0m \u001b[1;32mand\u001b[0m \u001b[0md\u001b[0m \u001b[1;33m<\u001b[0m \u001b[0md_mean\u001b[0m\u001b[1;33m]\u001b[0m \u001b[1;33m=\u001b[0m \u001b[1;36m25\u001b[0m\u001b[1;33m\u001b[0m\u001b[1;33m\u001b[0m\u001b[0m\n\u001b[0m\u001b[0;32m      2\u001b[0m \u001b[0mf\u001b[0m\u001b[1;33m[\u001b[0m\u001b[0md\u001b[0m \u001b[1;33m>\u001b[0m \u001b[0md_mean\u001b[0m \u001b[1;32mand\u001b[0m \u001b[0md\u001b[0m \u001b[1;33m<\u001b[0m \u001b[0md_max\u001b[0m\u001b[1;33m]\u001b[0m \u001b[1;33m=\u001b[0m \u001b[1;36m75\u001b[0m\u001b[1;33m\u001b[0m\u001b[1;33m\u001b[0m\u001b[0m\n\u001b[0;32m      3\u001b[0m \u001b[0mf\u001b[0m\u001b[1;33m[\u001b[0m\u001b[0md\u001b[0m \u001b[1;33m==\u001b[0m \u001b[0md_mean\u001b[0m\u001b[1;33m]\u001b[0m \u001b[1;33m=\u001b[0m \u001b[1;36m50\u001b[0m\u001b[1;33m\u001b[0m\u001b[1;33m\u001b[0m\u001b[0m\n\u001b[0;32m      4\u001b[0m \u001b[0mf\u001b[0m\u001b[1;33m[\u001b[0m\u001b[0md\u001b[0m \u001b[1;33m==\u001b[0m \u001b[0md_min\u001b[0m\u001b[1;33m]\u001b[0m \u001b[1;33m=\u001b[0m \u001b[1;36m0\u001b[0m\u001b[1;33m\u001b[0m\u001b[1;33m\u001b[0m\u001b[0m\n\u001b[0;32m      5\u001b[0m \u001b[0mf\u001b[0m\u001b[1;33m[\u001b[0m\u001b[0md\u001b[0m \u001b[1;33m==\u001b[0m \u001b[0md_max\u001b[0m\u001b[1;33m]\u001b[0m \u001b[1;33m=\u001b[0m \u001b[1;36m100\u001b[0m\u001b[1;33m\u001b[0m\u001b[1;33m\u001b[0m\u001b[0m\n",
      "\u001b[1;31mValueError\u001b[0m: The truth value of an array with more than one element is ambiguous. Use a.any() or a.all()"
     ]
    }
   ],
   "source": [
    "f[d > d_min and d < d_mean] = 25\n",
    "f[d > d_mean and d < d_max] = 75\n",
    "f[d == d_mean] = 50\n",
    "f[d == d_min] = 0\n",
    "f[d == d_max] = 100\n",
    "print(f)"
   ]
  },
  {
   "cell_type": "markdown",
   "metadata": {},
   "source": [
    "#### 17. Print *d* and *f*. Do you have your expected *f*?\n",
    "For instance, if your *d* is:\n",
    "```python\n",
    "[[[1.85836099, 1.67064465, 1.62576044, 1.40243961, 1.88454931],\n",
    "[1.75354326, 1.69403643, 1.36729252, 1.61415071, 1.12104981],\n",
    "[1.72201435, 1.1862918 , 1.87078449, 1.7726778 , 1.88180042]],\n",
    "[[1.44747908, 1.31673383, 1.02000951, 1.52218947, 1.97066381],\n",
    "[1.79129243, 1.74983003, 1.96028037, 1.85166831, 1.65450881],\n",
    "[1.18068344, 1.9587381 , 1.00656599, 1.93402165, 1.73514584]]]\n",
    "```\n",
    "Your *f* should be:\n",
    "```python\n",
    "[[[ 75.,  75.,  75.,  25.,  75.],\n",
    "[ 75.,  75.,  25.,  25.,  25.],\n",
    "[ 75.,  25.,  75.,  75.,  75.]],\n",
    "[[ 25.,  25.,  25.,  25., 100.],\n",
    "[ 75.,  75.,  75.,  75.,  75.],\n",
    "[ 25.,  75.,   0.,  75.,  75.]]]\n",
    "```"
   ]
  },
  {
   "cell_type": "code",
   "execution_count": null,
   "metadata": {},
   "outputs": [],
   "source": [
    "# your code here"
   ]
  },
  {
   "cell_type": "markdown",
   "metadata": {},
   "source": [
    "#### 18. Bonus question: instead of using numbers (i.e. 0, 25, 50, 75, and 100), use string values  (\"A\", \"B\", \"C\", \"D\", and \"E\") to label the array elements. For the example above, the expected result is:\n",
    "\n",
    "```python\n",
    "[[[ 'D',  'D',  'D',  'B',  'D'],\n",
    "[ 'D',  'D',  'B',  'B',  'B'],\n",
    "[ 'D',  'B',  'D',  'D',  'D']],\n",
    "[[ 'B',  'B',  'B',  'B',  'E'],\n",
    "[ 'D',  'D',  'D',  'D',  'D'],\n",
    "[ 'B',  'D',   'A',  'D', 'D']]]\n",
    "```\n",
    "**Note**: you don't have to use Numpy in this question."
   ]
  },
  {
   "cell_type": "code",
   "execution_count": null,
   "metadata": {},
   "outputs": [],
   "source": [
    "# your code here"
   ]
  }
 ],
 "metadata": {
  "kernelspec": {
   "display_name": "Python 3",
   "language": "python",
   "name": "python3"
  },
  "language_info": {
   "codemirror_mode": {
    "name": "ipython",
    "version": 3
   },
   "file_extension": ".py",
   "mimetype": "text/x-python",
   "name": "python",
   "nbconvert_exporter": "python",
   "pygments_lexer": "ipython3",
   "version": "3.8.3"
  }
 },
 "nbformat": 4,
 "nbformat_minor": 2
}
